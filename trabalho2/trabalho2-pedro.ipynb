{
  "cells": [
    {
      "cell_type": "markdown",
      "metadata": {
        "id": "zERz0b9tFS0L"
      },
      "source": [
        "# **Trabalho \\#2**:  Aprendizado de Máquina e Reconhecimento de Padrões MC886/MO444"
      ]
    },
    {
      "cell_type": "markdown",
      "metadata": {},
      "source": [
        "### Cabeçalho"
      ]
    },
    {
      "cell_type": "markdown",
      "metadata": {},
      "source": [
        "Instituto de Computação (IC/UNICAMP), 2ᵒ Semestre, 2024\n",
        "\n",
        "Profa. Sandra Avila, 2024s2\n",
        "\n",
        "Trabalho proposto por Caio Petrucci Rosa (PAD), Cesar Guedes Carneiro (PED) e Sandra Avila.\n",
        "\n"
      ]
    },
    {
      "cell_type": "code",
      "execution_count": 5,
      "metadata": {
        "colab": {
          "base_uri": "https://localhost:8080/"
        },
        "id": "DHI3b2gMFUu_",
        "outputId": "d2bf9c10-4817-4e8c-a7aa-26bdfdd09616"
      },
      "outputs": [
        {
          "name": "stdout",
          "output_type": "stream",
          "text": [
            "231081: Pedro da Rosa Pinheiro\n",
            "225334: Jonatas de Sousa Santos\n"
          ]
        }
      ],
      "source": [
        "print('231081: ' + 'Pedro da Rosa Pinheiro')\n",
        "print('225334: ' + 'Jonatas de Sousa Santos')"
      ]
    },
    {
      "cell_type": "markdown",
      "metadata": {},
      "source": [
        "### Importação de bibliotecas"
      ]
    },
    {
      "cell_type": "code",
      "execution_count": 57,
      "metadata": {},
      "outputs": [],
      "source": [
        "import matplotlib.pyplot as plt\n",
        "import seaborn as sns\n",
        "import pandas as pd\n",
        "import numpy as np\n",
        "%matplotlib inline\n",
        "\n",
        "from sklearn.preprocessing import OneHotEncoder\n",
        "from sklearn.preprocessing import LabelEncoder\n",
        "from sklearn.preprocessing import OrdinalEncoder\n",
        "from sklearn.preprocessing import MinMaxScaler\n",
        "\n",
        "from sklearn.model_selection import train_test_split\n",
        "\n",
        "pd.options.display.max_columns = None"
      ]
    },
    {
      "cell_type": "markdown",
      "metadata": {
        "id": "5v4SESncFWNU"
      },
      "source": [
        "## Objetivo"
      ]
    },
    {
      "cell_type": "markdown",
      "metadata": {
        "id": "Xk2ABCA0ZOq2"
      },
      "source": [
        "Explore os modelos de **regressão linear** e **regressão logística** e apresente o melhor modelo que você encontrar para o problema, evitando o *overfitting*. Em particular, realize predições acerca do salário dos profissionais da área de dados no Brasil, com base nos dados da pesquisa State of Data Brazil 2023, levando em consideração variáveis como perfil demográfico, formação, experiência e atuação no setor.\n",
        "\n",
        "---"
      ]
    },
    {
      "cell_type": "markdown",
      "metadata": {
        "id": "qp3ffmkzGrVw"
      },
      "source": [
        "## Base de Dados"
      ]
    },
    {
      "cell_type": "markdown",
      "metadata": {},
      "source": [
        "#### **Dicionário de dados:**"
      ]
    },
    {
      "cell_type": "markdown",
      "metadata": {},
      "source": [
        "A base de dados deste trabalho foi criado a partir de dados disponibilizados em [State of Data Brazil 2023](https://www.kaggle.com/datasets/datahackers/state-of-data-brazil-2023). Os dados refletem a pesquisa realizada com profissionais da área de Ciência de Dados no Brasil. As respostas foram coletadas em 2023 e a base de dados contém uma ampla variedade de perguntas sobre o perfil demográfico, situação profissional e conhecimentos técnicos dessas pessoas.\n",
        "\n",
        "\n",
        "* **id**: Identificador único da pessoa participante;\n",
        "\n",
        "* **idade**: Idade da pessoa participante;\n",
        "\n",
        "* **genero**: Gênero da pessoa participante;\n",
        "\n",
        "* **cor_raca**: Cor/raça/etnia da pessoa participante;\n",
        "\n",
        "* **pcd**: Se a pessoa participante possui alguma deficiência (PCD);\n",
        "\n",
        "* **estado_residencia**: Estado onde a pessoa participante mora;\n",
        "\n",
        "* **mudou_estado**: Se a pessoa participante mudou de estado recentemente;\n",
        "\n",
        "* **regiao_origem**: Região de origem da pessoa participante;\n",
        "\n",
        "* **nivel_ensino**: Nível de ensino da pessoa participante;\n",
        "\n",
        "* **area_formacao**: Área de formação acadêmica;\n",
        "\n",
        "* **situacao_trabalho**: Situação atual de trabalho;\n",
        "\n",
        "* **setor**: Setor em que a pessoa participante trabalha;\n",
        "\n",
        "* **numero_funcionarios**: Número de funcionários na empresa onde a pessoa participante trabalha;\n",
        "\n",
        "* **gestor**: Se a pessoa participante é gestor na empresa;\n",
        "\n",
        "* **cargo**: Cargo da pessoa participante;\n",
        "\n",
        "* **nivel_profissional**: Nível profissional da pessoa participante;\n",
        "\n",
        "* **tempo_exp_dados**: Tempo de experiência na área de dados;\n",
        "\n",
        "* **tempo_exp_ti**: Tempo de experiência prévia na área de TI ou Engenharia de Software antes de atuar com dados;\n",
        "\n",
        "* **satisfacao_empresa**: Nível de satisfação da pessoa participante com sua empresa atual;\n",
        "\n",
        "* **forma_trabalho_atual**: Forma de trabalho atual (presencial, remoto, híbrido);\n",
        "\n",
        "* **atuacao_dia_a_dia**: Reflexão da atuação da pessoa participante no dia a dia em relação ao cargo formal;\n",
        "\n",
        "* **fontes_dados_analise**: Fontes de dados já analisadas ou processadas pela pessoa participante no trabalho;\n",
        "\n",
        "* **fontes_dados_uso**: Fontes de dados mais utilizadas pela pessoa participante no trabalho;\n",
        "\n",
        "* **linguagens_trabalho**: Linguagens de programação utilizadas no trabalho;\n",
        "\n",
        "* **linguagem_mais_usada**: Linguagem de programação mais utilizada no trabalho;\n",
        "\n",
        "* **linguagem_preferida**: Linguagem de programação preferida da pessoa participante;\n",
        "\n",
        "* **bancos_dados_trabalho**: Bancos de dados utilizados no trabalho;\n",
        "\n",
        "* **cloud_preferida**: Cloud preferida da pessoa participante;\n",
        "\n",
        "* **cloud_usada**: Cloud usada no trabalho;\n",
        "\n",
        "* **ferramenta_bi_dia_a_dia**: Ferramenta de BI utilizada no dia a dia;\n",
        "\n",
        "* **ferramenta_bi_preferida**: Ferramenta de BI preferida;\n",
        "\n",
        "* **tipo_uso_ai**: Tipo de uso de AI Generativa e LLMs na empresa;\n",
        "\n",
        "* **uso_chatgpt**: Se a pessoa participante utiliza ChatGPT ou LLMs no trabalho;\n",
        "\n",
        "* **faixa_salarial**: Faixa salarial da pessoa participante;\n",
        "\n",
        "* **salario**: Valor do salário da pessoa participante.\n",
        "\n",
        "\n",
        "Você deve **respeitar a seguinte divisão de treino/teste**:\n",
        "\n",
        "    train_data.csv\n",
        "    test_data.csv\n",
        "\n",
        "Lembre-se de criar **seu próprio conjunto de validação**, a partir um subconjunto do conjunto de treinamento, e utilize o conjunto de teste (a ser disponibilizado) apenas para inferência e relato do resultado final."
      ]
    },
    {
      "cell_type": "markdown",
      "metadata": {
        "id": "okl50K2ZZZ9l"
      },
      "source": [
        "### Atividades"
      ]
    },
    {
      "cell_type": "markdown",
      "metadata": {
        "id": "2MEVxUBgog5X"
      },
      "source": [
        "#### 1. (0,4 pontos) Realize a limpeza e preparação dos dados de treinamento.\n",
        "\n",
        "  > **Considere os seguintes fatores:**\n",
        "  > - Existem outliers nos dados? Se sim, como você pretende tratá-los (removê-los, ajustá-los, ou usar uma abordagem alternativa)?\n",
        "  > - Há valores ausentes? Se sim, como irá lidar com eles? (Ex.: exclusão de linhas, preenchimento por média/mediana/moda, ou outros métodos).\n",
        "  > - Como você planeja tratar variáveis categóricas? (Ex.: one-hot encoding, label encoding, ou outra estratégia)."
      ]
    },
    {
      "cell_type": "code",
      "execution_count": 58,
      "metadata": {},
      "outputs": [],
      "source": [
        "# Carregando dados\n",
        "df_raw = pd.read_csv(\"train_data.csv\")\n",
        "\n",
        "# removendo features não relevantes\n",
        "df= df_raw.drop([\"id\"], axis=1)"
      ]
    },
    {
      "cell_type": "code",
      "execution_count": null,
      "metadata": {
        "colab": {
          "base_uri": "https://localhost:8080/"
        },
        "id": "YeD6Fgv5Sn-t",
        "outputId": "dd4108d1-2602-406a-8d1a-5fc44c16571f"
      },
      "outputs": [],
      "source": [
        "# preenchendo valores NaN\n",
        "df[\"nivel_profissional\"].fillna(df[\"nivel_profissional\"].value_counts().index[0], inplace=True)\n",
        "\n",
        "# realizando one hot encoding\n",
        "encoder = OneHotEncoder(sparse_output=False)\n",
        "\n",
        "categorical_cols = [\"cor_raca\", \"estado_residencia\", \"nivel_ensino\", \"area_formacao\", \"situacao_trabalho\", \"setor\", \"atuacao_dia_a_dia\", \"cargo\"]\n",
        "encoded = encoder.fit_transform(df[categorical_cols])\n",
        "df_encoded = pd.DataFrame(encoded, columns=encoder.get_feature_names_out(categorical_cols))\n",
        "\n",
        "df = pd.concat([df, df_encoded], axis=1)\n",
        "df.drop(categorical_cols, axis=1, inplace=True)\n",
        "\n",
        "\n",
        "# renomeando features com nomes longos/não formatados\n",
        "df.rename(columns={\"setor_Tecnologia/Fábrica de Software\": \"setor_Tech/Fábrica\",\n",
        "                        \"setor_Área da Saúde\": \"setor_Saude\",\n",
        "                        \"setor_Área de Consultoria\": \"setor_Consultoria\",\n",
        "                        \"atuacao_dia_a_dia_*Análise de Dados/BI:* Extrai e cruza dados unindo diferentes fontes da informação; analisa dados visando identificar padrões, gerar insights e levantar perguntas; desenvolve dashboards, relatórios e visualizações de dados em ferramentas de BI.\": \"atuacao_dia_a_dia_AD/BI\",\n",
        "                        \"atuacao_dia_a_dia_*Ciência de Dados/Machine Learning/AI: *Desenha e executa experimentos com o objetivo de responder perguntas do negócio; desenvolve modelos preditivos e algoritmos de Machine Learning com o objetivo de otimizar e automatizar a tomada de decisão.\": \"atuacao_dia_a_dia_DS/ML/AI\",\n",
        "                        \"atuacao_dia_a_dia_*Engenharia de Dados:* Modela soluções de arquitetura de dados; define modelagens de repositórios de dados (Data Lake, Data Warehouse, Data Lakehouse); desenvolve estratégias de aquisição de dados, recuperação de informação e pipelines de dados.\": \"atuacao_dia_a_dia_Engenharia\",\n",
        "                        \"atuacao_dia_a_dia_Não atuo em nenhuma das frentes citadas.\": \"atuacao_dia_a_dia_Unknown\",\n",
        "                        \"cor_raca_Prefiro não informar\": \"cor_raca_Unknown\",\n",
        "                        \"estado_residencia_Acre (AC)\": \"estado_residencia_AC\",\n",
        "                        \"estado_residencia_Alagoas (AL)\": \"estado_residencia_AL\",\n",
        "                        \"estado_residencia_Amapá (AP)\": \"estado_residencia_AP\",\n",
        "                        \"estado_residencia_Amazonas (AM)\": \"estado_residencia_AM\",\n",
        "                        \"estado_residencia_Bahia (BA)\": \"estado_residencia_BA\",\n",
        "                        \"estado_residencia_Ceará (CE)\": \"estado_residencia_CE\",\n",
        "                        \"estado_residencia_Distrito Federal (DF)\": \"estado_residencia_DF\",\n",
        "                        \"estado_residencia_Espírito Santo (ES)\": \"estado_residencia_ES\",\n",
        "                        \"estado_residencia_Goiás (GO)\": \"estado_residencia_GO\",\n",
        "                        \"estado_residencia_Maranhão (MA)\": \"estado_residencia_MA\",\n",
        "                        \"estado_residencia_Mato Grosso (MT)\": \"estado_residencia_MT\",\n",
        "                        \"estado_residencia_Mato Grosso do Sul (MS)\": \"estado_residencia_MS\",\n",
        "                        \"estado_residencia_Minas Gerais (MG)\": \"estado_residencia_MG\",\n",
        "                        \"estado_residencia_Paraná (PR)\": \"estado_residencia_PR\",\n",
        "                        \"estado_residencia_Paraíba (PB)\": \"estado_residencia_PB\",\n",
        "                        \"estado_residencia_Pará (PA)\": \"estado_residencia_PA\",\n",
        "                        \"estado_residencia_Pernambuco (PE)\": \"estado_residencia_PE\",\n",
        "                        \"estado_residencia_Piauí (PI)\": \"estado_residencia_PI\",\n",
        "                        \"estado_residencia_Rio Grande do Norte (RN)\": \"estado_residencia_RN\",\n",
        "                        \"estado_residencia_Rio Grande do Sul (RS)\": \"estado_residencia_RS\",\n",
        "                        \"estado_residencia_Rio de Janeiro (RJ)\": \"estado_residencia_RJ\",\n",
        "                        \"estado_residencia_Rondônia (RO)\": \"estado_residencia_RO\",\n",
        "                        \"estado_residencia_Santa Catarina (SC)\": \"estado_residencia_SC\",\n",
        "                        \"estado_residencia_Sergipe (SE)\": \"estado_residencia_SE\",\n",
        "                        \"estado_residencia_São Paulo (SP)\": \"estado_residencia_SP\",\n",
        "                        \"estado_residencia_Tocantins (TO)\": \"estado_residencia_TO\",\n",
        "                        \"nivel_ensino_Doutorado ou PHD\": \"nivel_ensino_Doutorado/PHD\",\n",
        "                        \"nivel_ensino_Estudante de Graduação\": \"nivel_ensino_Estudante\",\n",
        "                        \"nivel_ensino_Não tenho graduação formal\": \"nivel_ensino_SemGrad\",\n",
        "                        \"nivel_ensino_Prefiro não informar\": \"nivel_ensino_Unknown\"}, inplace=True)\n",
        "\n",
        "# realizando label encoding\n",
        "label_encoder = LabelEncoder()\n",
        "df[\"genero\"] = label_encoder.fit_transform(df[\"genero\"])\n",
        "df[\"pcd\"] = label_encoder.fit_transform(df[\"pcd\"])\n",
        "\n",
        "# realizando ordinal encoding\n",
        "ordinal_encoder = OrdinalEncoder(categories=[[\"Júnior\", \"Pleno\", \"Sênior\"]])\n",
        "df[\"nivel_profissional\"] = ordinal_encoder.fit_transform(df[[\"nivel_profissional\"]])\n",
        "\n",
        "ordinal_encoder = OrdinalEncoder(categories=[['Não tenho experiência na área de dados', 'Menos de 1 ano', 'de 1 a 2 anos', 'de 3 a 4 anos', 'de 4 a 6 anos', 'de 5 a 6 anos', 'de 7 a 10 anos', 'Mais de 10 anos']])\n",
        "df[\"tempo_exp_dados\"] = ordinal_encoder.fit_transform(df[[\"tempo_exp_dados\"]])\n",
        "\n",
        "ordinal_encoder = OrdinalEncoder(categories=[['Não tive experiência na área de TI/Engenharia de Software antes de começar a trabalhar na área de dados', 'Menos de 1 ano', 'de 1 a 2 anos', 'de 3 a 4 anos', 'de 5 a 6 anos', 'de 7 a 10 anos', 'Mais de 10 anos']])\n",
        "df[\"tempo_exp_ti\"] = ordinal_encoder.fit_transform(df[[\"tempo_exp_ti\"]])\n",
        "\n",
        "ordinal_encoder = OrdinalEncoder(categories=[['de R$ 101/mês a R$ 2.000/mês', 'Menos de R$ 1.000/mês', 'de R$ 1.001/mês a R$ 2.000/mês', 'de R$ 2.001/mês a R$ 3.000/mês', 'de R$ 3.001/mês a R$ 4.000/mês', 'de R$ 4.001/mês a R$ 6.000/mês', 'de R$ 6.001/mês a R$ 8.000/mês', 'de R$ 8.001/mês a R$ 12.000/mês', 'de R$ 12.001/mês a R$ 16.000/mês', 'de R$ 16.001/mês a R$ 20.000/mês', 'de R$ 20.001/mês a R$ 25.000/mês', 'de R$ 25.001/mês a R$ 30.000/mês', 'de R$ 30.001/mês a R$ 40.000/mês', 'Acima de R$ 40.001/mês']])\n",
        "df[\"faixa_salarial\"] = ordinal_encoder.fit_transform(df[[\"faixa_salarial\"]])\n",
        "\n",
        "# normalizando dados\n",
        "min_max_scaler = MinMaxScaler()\n",
        "df_temp = df\n",
        "df = pd.DataFrame(min_max_scaler.fit_transform(df.drop([\"salario\", \"faixa_salarial\"], axis=1)), index=df.index, columns=df.drop([\"salario\", \"faixa_salarial\"], axis=1).columns)\n",
        "df[\"salario\"] = df_temp[\"salario\"]\n",
        "df[\"faixa_salarial\"] = df_temp[\"faixa_salarial\"]\n",
        "\n",
        "print(df.shape)\n",
        "\n"
      ]
    },
    {
      "cell_type": "markdown",
      "metadata": {
        "id": "q9g6NrF5PYGH"
      },
      "source": [
        "2. (0,5 pontos) Faça uma análise exploratória de dados.\n",
        "\n",
        "  > Procure entender como os dados se comportam e as relações entre diferentes *features*.\n",
        "  >\n",
        "  > **Alguns fatores a serem considerados:** Quais as distribuição dos valores de cada atributos? Como é a correlação entre os diferentes atributos? Existe multicolinearidade entre algumas *features*?"
      ]
    },
    {
      "cell_type": "code",
      "execution_count": 8,
      "metadata": {
        "colab": {
          "base_uri": "https://localhost:8080/",
          "height": 583
        },
        "id": "CXYY_Il5SwPM",
        "outputId": "c9eae899-e41a-49b3-cfd0-9b2faf8316b2"
      },
      "outputs": [],
      "source": [
        "# TODO: Análise exploratória dos dados\n",
        "\n",
        "# df_proc.corr()"
      ]
    },
    {
      "cell_type": "markdown",
      "metadata": {
        "id": "B-Ysk9JgSVV1"
      },
      "source": [
        "3. (0,1 pontos) Divida o seu conjunto de treinamento em dois conjuntos: treinamento e validação. A proporção de divisão pode ser escolhida, mas pense no impacto que isso pode resultar em seu modelo.\n",
        "\n",
        "  > **Dica:** Defina uma *seed* para seus resultados serem reprodutíveis."
      ]
    },
    {
      "cell_type": "code",
      "execution_count": 46,
      "metadata": {
        "id": "QNVOf2jqSy75"
      },
      "outputs": [],
      "source": [
        "# TODO: Divisão de treinamento e validação\n",
        "df.insert(0, \"bias\", [1] * df.shape[0])\n",
        "y = df[\"salario\"].to_numpy()\n",
        "X = df.drop([\"salario\"], axis=1).to_numpy()\n",
        "X_train, X_validation, y_train, y_validation = train_test_split(X, y, test_size=0.3, random_state=42)"
      ]
    },
    {
      "cell_type": "markdown",
      "metadata": {
        "id": "OMdH9asLG1cP"
      },
      "source": [
        "## Regressão Linear"
      ]
    },
    {
      "cell_type": "markdown",
      "metadata": {},
      "source": [
        "\n",
        "Esta parte do trabalho visa prever o valor do salário dos profissionais, descrita pelo atributo `salario`, com base em seus dados demográficos e informações de carreira.\n",
        "\n",
        "O atributo alvo nesta etapa é o atributo `salario`. Portanto, não utilize os atributos `salario` e `faixa_salarial` como *features* dos seus modelos, apenas para o cálculo da função de custo durante o treinamento e a validação."
      ]
    },
    {
      "cell_type": "markdown",
      "metadata": {
        "id": "9Ta_WZ-NTs_H"
      },
      "source": [
        "### Atividades"
      ]
    },
    {
      "cell_type": "markdown",
      "metadata": {
        "id": "WuwGti_uCEeW"
      },
      "source": [
        "#### 1. (0,1 pontos) Faça a seleção das features mais importantes para o treinamento da sua regressão linear, com base em sua análise exploratória."
      ]
    },
    {
      "cell_type": "code",
      "execution_count": 10,
      "metadata": {
        "id": "NidqvEqdCynt"
      },
      "outputs": [],
      "source": [
        "#TODO: Seleção de features.\n",
        "\n",
        "# Seleção já realizada na etapa de pré-processamento"
      ]
    },
    {
      "cell_type": "markdown",
      "metadata": {
        "id": "7Qm532KspU62"
      },
      "source": [
        "#### 2. (1,75 pontos) Implemente e execute a regressão linear.\n",
        "\n",
        "  Faça uma classe `LinearRegression` capaz de encontrar uma regressão utilizando dois métodos: **descida do gradiente** e a **equação normal**.\n",
        "\n",
        "  Para a otimização por **descida do gradiente**, guarde o histórico da função de custo por época e retorno este histórico após a execução do ajuste. Além disso, utilize uma learning rate de `0.01` nesta etapa.\n",
        "\n",
        "  > **Observações:** Inicie randomicamente sua regressão linear e lembre-se de não utilizar dados de teste no treinamento.\n",
        "\n",
        "  Lembre-se que:\n",
        "\n",
        "  > A hipótese da regressão linear é: $ h_\\theta(x) = \\theta^Tx$.\n",
        "  >\n",
        "  > E, o objetivo da regressão linear é minimizar a função de custo Root Mean Squared Error (RMSE):\n",
        "  >\n",
        "  > $$ J(\\theta) = \\frac{1}{2m} \\sum_{i=1}^m (h_\\theta(x^{(i)}) - y^{(i)})^2 $$\n",
        "  >\n",
        "  > Para minimizar o custo $J(\\theta)$, o algoritmo de descida do gradiente realiza uma atualização nos parâmetros do modelo a cada iteração:\n",
        "  >\n",
        "  > $$\\theta_j := \\theta_j - \\alpha \\frac{\\partial}{\\partial\\theta_j}J(\\theta) = \\theta_j - \\alpha \\frac{1}{m} \\sum_{i=1}^m (h_\\theta(x^{(i)}) - y^{(i)})x_j^{(i)} $$\n",
        "  >\n",
        "  > onde $j$ é o índice do parâmetro a ser atualizado (atualizando simultaneamente $\\theta_j$ para todos os $j$) e $\\alpha$ é a taxa de aprendizado."
      ]
    },
    {
      "cell_type": "code",
      "execution_count": 28,
      "metadata": {
        "id": "cqm7NQgPR0qb"
      },
      "outputs": [],
      "source": [
        "# TODO: Regressão Linear. Implemente sua solução. Você não pode usar bibliotecas como scikit-learn, Keras/TensorFlow, ou PyTorch.\n",
        "\n",
        "class LinearRegression:\n",
        "    def __init__(self, X, y) -> None:\n",
        "        self.X = X\n",
        "        self.y = y\n",
        "        pass\n",
        "\n",
        "    def fit(self, method: str =None, **kwargs):\n",
        "        if method == \"gradient_descent\":\n",
        "            return self.fit_gradient_descent_solve(**kwargs)\n",
        "        else:\n",
        "            return self.fit_analytical_solve()\n",
        "\n",
        "    def fit_analytical_solve(self):\n",
        "        Xt = np.transpose(self.X)\n",
        "        feature_prod = np.matmul(Xt, self.X)\n",
        "\n",
        "        # if (np.linalg.det(feature_prod) == 0):\n",
        "        #     raise Exception(\"Matriz não invertível na solução analítica. Favor checar redundância dos features.\")\n",
        "        \n",
        "        inv_prod = np.linalg.inv(feature_prod)\n",
        "        z = np.matmul(inv_prod, Xt)\n",
        "        theta = np.matmul(z, self.y)\n",
        "\n",
        "        return theta\n",
        "    \n",
        "    def error_derivative(self, batch_size: int, theta: np.array):\n",
        "        random_idx = np.random.choice(self.X.shape[0], size=batch_size)\n",
        "        X_batch = self.X[random_idx]\n",
        "        y_batch = self.y[random_idx]\n",
        "\n",
        "        y_predict = X_batch @ theta\n",
        "        error = np.sum((y_batch - y_predict) ** 2) / (2 * batch_size)\n",
        "        error_d = X_batch.T @ (y_predict - y_batch) / batch_size\n",
        "\n",
        "        return error, error_d\n",
        "\n",
        "    def fit_gradient_descent_solve(self, epochs: int, batch_size: int, alpha: float = 0.01):\n",
        "        theta = np.random.rand(self.X.shape[1])\n",
        "        epochs_error = []\n",
        "\n",
        "        for idx_epoch in range(epochs):\n",
        "            for _ in range(self.X.shape[0] // batch_size):\n",
        "                error, error_d = self.error_derivative(batch_size, theta)\n",
        "                theta -= alpha * error_d\n",
        "            epochs_error.append(error)\n",
        "        \n",
        "        return theta, epochs_error"
      ]
    },
    {
      "cell_type": "code",
      "execution_count": 53,
      "metadata": {},
      "outputs": [],
      "source": [
        "X = np.random.rand(10000)\n",
        "X = X.reshape((10000, 1))\n",
        "X = np.hstack((np.ones(10000).reshape(10000, 1), X))\n",
        "y = 2* X[:,1] + 5\n",
        "\n",
        "# lr = LinearRegression(X_train, y_train)\n",
        "lr = LinearRegression(X, y)\n",
        "\n",
        "theta_analytic = lr.fit()\n",
        "theta, epochs_error = lr.fit(method=\"gradient_descent\", epochs=10000, batch_size=261)"
      ]
    },
    {
      "cell_type": "code",
      "execution_count": 54,
      "metadata": {},
      "outputs": [
        {
          "data": {
            "text/plain": [
              "[<matplotlib.lines.Line2D at 0x7fc28c571eb0>]"
            ]
          },
          "execution_count": 54,
          "metadata": {},
          "output_type": "execute_result"
        },
        {
          "data": {
            "image/png": "[encoded data removed]",
            "text/plain": [
              "<Figure size 640x480 with 1 Axes>"
            ]
          },
          "metadata": {},
          "output_type": "display_data"
        }
      ],
      "source": [
        "import matplotlib.pyplot as plt\n",
        "plt.plot(epochs_error)"
      ]
    },
    {
      "cell_type": "markdown",
      "metadata": {
        "id": "Gv793QDpphiy"
      },
      "source": [
        "> **Quais foram suas conclusões? (1-2 parágrafos)**\n",
        "\n",
        "\n"
      ]
    },
    {
      "cell_type": "markdown",
      "metadata": {
        "id": "C7XLrOGh0mZk"
      },
      "source": [
        "*Escreva as conclusões aqui.*"
      ]
    },
    {
      "cell_type": "markdown",
      "metadata": {
        "id": "LgjRms76qrOC"
      },
      "source": [
        "3. (0,75 pontos) Experimente diferentes valores de *learning rates* para a descida de gradiente (GD). Plote o histórico da função de custo (função de custo vs. número de épocas) no conjunto de treinamento e no de validação para cada experimento.\n",
        "\n"
      ]
    },
    {
      "cell_type": "code",
      "execution_count": 14,
      "metadata": {
        "id": "anpVxB7KqtEh"
      },
      "outputs": [],
      "source": [
        "# TODO: Descida do gradiente (GD) com 3 diferentes learning rates."
      ]
    },
    {
      "cell_type": "markdown",
      "metadata": {
        "id": "foOoNz2Zqv-V"
      },
      "source": [
        "> **Quais foram suas conclusões? (1-2 parágrafos)**\n",
        "\n",
        "\n"
      ]
    },
    {
      "cell_type": "markdown",
      "metadata": {
        "id": "QDpw-kRJ0gPC"
      },
      "source": [
        "*Escreva as conclusões aqui.*"
      ]
    },
    {
      "cell_type": "markdown",
      "metadata": {
        "id": "6ZvPyHW6qYgb"
      },
      "source": [
        " 4. (0,25 pontos) Compare o seu melhor experimento baseado em GD com a sua implementação da equação normal."
      ]
    },
    {
      "cell_type": "code",
      "execution_count": 15,
      "metadata": {
        "id": "V8h4U1hXqYCw"
      },
      "outputs": [],
      "source": [
        "# TODO: Compare as implementações"
      ]
    },
    {
      "cell_type": "markdown",
      "metadata": {
        "id": "pOh6ImHZqc5_"
      },
      "source": [
        "> **Quais foram suas conclusões? (1-2 parágrafos)**\n",
        "\n",
        "\n"
      ]
    },
    {
      "cell_type": "markdown",
      "metadata": {
        "id": "RXwdaerm0dd9"
      },
      "source": [
        "*Escreva as conclusões aqui.*"
      ]
    },
    {
      "cell_type": "markdown",
      "metadata": {
        "id": "33HfVM3JA9ig"
      },
      "source": [
        "5. (1,25 pontos) Implementa e execute duas regressões lineares utilizando sklearn:\n",
        "\n",
        "  1. Execute uma regressão com `sklearn.linear_model.SGDRegressor`, que utiliza descida do gradiente minimizando uma função de custo regularizada.\n",
        "  2. Execute uma regressão com `sklearn.linear_model.LinearRegression`, que utiliza o método da equação normal.\n",
        "\n",
        "  Compare os resultados obtidos com as suas implementações (de GD e da equação normal).\n",
        "\n",
        "  Ou seja, compare o `sklearn.linear_model.SGDRegressor` com a sua implementação da descida do gradiente e o `sklearn.linear_model.LinearRegression` com a sua implementação da equação normal.\n",
        "\n",
        "  > **Observação:** Utilize uma learning rate igual a algum dos experimentos que já fez para realizar uma comparação justa.\n"
      ]
    },
    {
      "cell_type": "code",
      "execution_count": 16,
      "metadata": {
        "id": "kxxmoHS3pX09"
      },
      "outputs": [],
      "source": [
        "# TODO: Regressão Linear. Faça a regressão novamente, agora utilizando o sklearn.linear_model.SGDRegressor e sklearn.linear_model.LinearRegression."
      ]
    },
    {
      "cell_type": "markdown",
      "metadata": {
        "id": "3KeQR7FfqmZq"
      },
      "source": [
        "> **Quais foram suas conclusões? (1-2 parágrafos)**\n",
        "\n",
        "\n"
      ]
    },
    {
      "cell_type": "markdown",
      "metadata": {
        "id": "BoYlktBm0V4S"
      },
      "source": [
        "*Escreva as conclusões aqui.*"
      ]
    },
    {
      "cell_type": "markdown",
      "metadata": {
        "id": "gOAUyNNNqgtD"
      },
      "source": [
        "6. (0,4 ponto) Às vezes, precisamos de alguma função mais complexa para fazer uma boa predição. Elabore e avalie um modelo de Regressão Polinomial."
      ]
    },
    {
      "cell_type": "code",
      "execution_count": 17,
      "metadata": {
        "id": "A6lBNyOkqhcT"
      },
      "outputs": [],
      "source": [
        "# TODO: Regressão polinomial. Está liberado utilizar scikit-learn."
      ]
    },
    {
      "cell_type": "markdown",
      "metadata": {
        "id": "Z_iBTv0fBLg4"
      },
      "source": [
        "> **Quais foram suas conclusões? (1-2 parágrafos)**\n",
        "\n",
        "\n"
      ]
    },
    {
      "cell_type": "markdown",
      "metadata": {
        "id": "jtfjg_zQ0QQ8"
      },
      "source": [
        "*Escreva as conclusões aqui.*"
      ]
    },
    {
      "cell_type": "markdown",
      "metadata": {
        "id": "coV5ojoNTyk8"
      },
      "source": [
        "## Regressão Logística"
      ]
    },
    {
      "cell_type": "markdown",
      "metadata": {},
      "source": [
        "Esta parte do trabalho visa prever a faixa salarial dos profissionais, descrita pelo atributo `faixa_salarial`, com base em seus dados demográficos e informações de carreira. Portanto, não utilize os atributos `salario` e `faixa_salarial` como *features* dos seus modelos, apenas para o cálculo da função de custo durante o treinamento e a validação."
      ]
    },
    {
      "cell_type": "markdown",
      "metadata": {
        "id": "ep0MimhsT13j"
      },
      "source": [
        "### Atividades"
      ]
    },
    {
      "cell_type": "markdown",
      "metadata": {
        "id": "48rUllHFHIhS"
      },
      "source": [
        "#### 1. (0,1 pontos) Faça a seleção das features mais importantes para o treinamento da sua regressão logística, com base em sua análise exploratória."
      ]
    },
    {
      "cell_type": "code",
      "execution_count": 18,
      "metadata": {
        "id": "japzGknMHSgr"
      },
      "outputs": [],
      "source": [
        "# TODO: Selecione de features."
      ]
    },
    {
      "cell_type": "markdown",
      "metadata": {
        "id": "IJDQbA07p8NP"
      },
      "source": [
        "#### 2. (1,0 pontos) Faça uma Regressão Logística Multinomial. Ela é uma generalização da Regressão Logística para o caso em que queremos lidar com várias classes.\n",
        "\n",
        "    Use a classe `sklearn.linear_model.SGDClassifier`, passando o parâmetro `loss=\"log_loss\"` no construtor, para criar uma Regressão Logística a ser otimizada por descida do gradiente.\n",
        "\n",
        "    Experimente diferentes valores de learning rate e avalie o impacto desse hiperparâmetro no treinamento do modelo."
      ]
    },
    {
      "cell_type": "code",
      "execution_count": 19,
      "metadata": {
        "id": "2owJ2ALcp9dv"
      },
      "outputs": [],
      "source": [
        "# TODO: Regressão logística multinomial. Utilize a classe sklearn.linear_model.SGDClassifier do scikit-learn."
      ]
    },
    {
      "cell_type": "markdown",
      "metadata": {
        "id": "ma81yFo5qAzB"
      },
      "source": [
        "> **Quais foram suas conclusões? (1-2 parágrafos)**\n",
        "\n",
        "\n"
      ]
    },
    {
      "cell_type": "markdown",
      "metadata": {
        "id": "FgICWg8N0Ajq"
      },
      "source": [
        "*Escreva as conclusões aqui.*"
      ]
    },
    {
      "cell_type": "markdown",
      "metadata": {
        "id": "CkAZORziqKFf"
      },
      "source": [
        "3. (0,75 ponto) Faça um gráfico da função de custo vs. número de épocas, em relação ao conjunto de treinamento e ao conjunto de validação. Também faça um gráfico, de mesma estrutura, descrevendo a acurácia vs. número de época.\n",
        "\n",
        "    Como é o comportamento do modelo? O modelo está aprendendo?"
      ]
    },
    {
      "cell_type": "code",
      "execution_count": 20,
      "metadata": {
        "id": "0JL3hPmzqG8x"
      },
      "outputs": [],
      "source": [
        "# TODO: Plote os gráficos de loss / acurácia vs. número de épocas. Você pode usar as bibliotecas scikit-learn, seaborn, matplotlib, etc."
      ]
    },
    {
      "cell_type": "markdown",
      "metadata": {
        "id": "5XUwX1lfqHMs"
      },
      "source": [
        "> **Quais foram suas conclusões? (1-2 parágrafos)**\n",
        "\n",
        "\n"
      ]
    },
    {
      "cell_type": "markdown",
      "metadata": {
        "id": "QCpnhE-Zz67p"
      },
      "source": [
        "*Escreva as conclusões aqui.*"
      ]
    },
    {
      "cell_type": "markdown",
      "metadata": {
        "id": "TGPyK3g4H2TQ"
      },
      "source": [
        "4. (0,9 pontos) Faça pelo menos 2 gráficos que visualizem as fronteiras de decisão entre duas *features*. Por exemplo, você pode fazer um gráfico da fronteira de decisão entre os atributos `tempo_exp_dados` e `satisfacao_empresa`, caso tenha utilizado essas *features*. Verifique se está fazendo o plot para atributos relevantes utilizados em seu modelo.\n",
        "\n",
        "    > **Observação:** [Este tutorial](https://scikit-learn.org/stable/auto_examples/linear_model/plot_sgd_iris.html#sphx-glr-auto-examples-linear-model-plot-sgd-iris-py) do scikit-learn demonstra como extrair essas informações do `sklearn.linear_model.SGDClassifier`."
      ]
    },
    {
      "cell_type": "code",
      "execution_count": 21,
      "metadata": {
        "id": "NtTP4Vg7H-7a"
      },
      "outputs": [],
      "source": [
        "# TODO: Faça a visualização das fronteiras de decisão. Você pode usar as bibliotecas scikit-learn, seaborn, matplotlib, etc."
      ]
    },
    {
      "cell_type": "markdown",
      "metadata": {
        "id": "luQyukihISLS"
      },
      "source": [
        "> **Quais foram suas conclusões? (1-2 parágrafos)**\n",
        "\n",
        "\n"
      ]
    },
    {
      "cell_type": "markdown",
      "metadata": {
        "id": "AKB4Vdv5zkti"
      },
      "source": [
        "*Escreva as conclusões aqui.*"
      ]
    },
    {
      "cell_type": "markdown",
      "metadata": {
        "id": "OfPu60KZIAy2"
      },
      "source": [
        "5. (0,75 pontos) Avalie os resultados do seu modelo, utilizando métricas de classificação que achar relevante. Plote a matriz de confusão e analise os resultados."
      ]
    },
    {
      "cell_type": "code",
      "execution_count": 22,
      "metadata": {
        "id": "xiVe5lFGIO0P"
      },
      "outputs": [],
      "source": [
        "# TODO: Avalie o seu modelo de classificação. Você pode usar as bibliotecas scikit-learn, seaborn, matplotlib, etc."
      ]
    },
    {
      "cell_type": "markdown",
      "metadata": {
        "id": "dV2pjLS7IN-B"
      },
      "source": [
        "> **Quais foram suas conclusões? (1-2 parágrafos)**\n"
      ]
    },
    {
      "cell_type": "markdown",
      "metadata": {
        "id": "bNm-2hQf04RI"
      },
      "source": [
        "*Escreva as conclusões aqui.*"
      ]
    },
    {
      "cell_type": "markdown",
      "metadata": {
        "id": "WN80wF3zbN11"
      },
      "source": [
        "## Submissão dos resultados no Kaggle"
      ]
    },
    {
      "cell_type": "markdown",
      "metadata": {
        "id": "Fjz08E4Bcvc6"
      },
      "source": [
        "Para avaliar o desempenho do seu modelo, você deve submeter suas predições, no conjunto de teste, na competição [Tarefa #2 de MC886/MO444 2024S2](https://www.kaggle.com/t/20fa042c08f5453abd89d946468bd3de) do Kaggle.\n",
        "\n",
        "A plataforma calculará automaticamente a métrica de avaliação e fornecerá um score.\n",
        "\n",
        "> **Observação:** Não se preocupe apenas com o resultado do seu modelo. O seu score no placar não irá influenciar a sua nota nesta atividade :)."
      ]
    },
    {
      "cell_type": "markdown",
      "metadata": {
        "id": "qgoUIadmbqVf"
      },
      "source": [
        "### Atividades"
      ]
    },
    {
      "cell_type": "markdown",
      "metadata": {
        "id": "-8WM1UJkSe1n"
      },
      "source": [
        "1. (1,0 pontos) Escolha **seus melhores modelos** para as duas tarefas feitas (regressão e classificação) e faça a predição dos atributos `salario` e `faixa_salarial` com base nos dados da pesquisa contidos no **conjunto de teste**.\n",
        "\n",
        "  **Gere um arquivo de submissão, de tipo CSV, no formato adequado:** Gere uma linha por pessoa no conjunto de teste, com as duas colunas para os valores preditos, que devem estar nomeadas como **`salario`** e **`faixa_salarial`**.\n",
        "\n",
        "  > Exemplo de arquivo (com o cabeçalho e conteúdo formatados):\n",
        "  > ```\n",
        "  > id, salario, faixa_salarial\n",
        "  > 1, 0.0, \"de R$ 0/mês a R$ 0/mês\"\n",
        "  > 2, 0.0, \"de R$ 0/mês a R$ 0/mês\"\n",
        "  > 3, 0.0, \"de R$ 0/mês a R$ 0/mês\"\n",
        "  > ```\n",
        "\n",
        "  Submeta suas predições na competição [Tarefa #2 de MC886/MO444 2024S2](https://www.kaggle.com/t/20fa042c08f5453abd89d946468bd3de) no Kaggle.\n",
        "\n",
        "  Conte para a gente! Qual foi o resultado que você obteve na competição? :)"
      ]
    },
    {
      "cell_type": "markdown",
      "metadata": {
        "id": "eqrdxXuR08Xu"
      },
      "source": [
        "*Conte aqui :)*"
      ]
    },
    {
      "cell_type": "markdown",
      "metadata": {},
      "source": [
        "## Informações sobre prazo e envio"
      ]
    },
    {
      "cell_type": "markdown",
      "metadata": {
        "id": "wOT_icxXR1BY"
      },
      "source": [
        "### Prazo\n",
        "\n",
        "09 de outubro, quarta-feira, 23:59.\n",
        "\n",
        "Política de penalidade para submissões atrasadas: Você não está sendo encorajada(o) a submeter o trabalho depois da data de submissão. Entretanto, caso isso aconteça, a nota será penalizada da seguinte forma:\n",
        "- 10 de outubro, 23:59: nota * 0,75\n",
        "- 11 de outubro, 23:59: nota * 0,5\n",
        "- 12 de outubro, 23:59: nota * 0,25\n",
        "\n",
        "\n",
        "### Envio\n",
        "\n",
        "No Google Classroom, envie seu Jupyter Notebook, no formato RA1_RA2_2024s2_mc886mo444_tarefa_02.ipynb.\n",
        "\n",
        "**Esta atividade NÃO é individual, deve ser realizada em dupla (grupo de duas pessoas).**\n"
      ]
    },
    {
      "cell_type": "markdown",
      "metadata": {},
      "source": []
    }
  ],
  "metadata": {
    "colab": {
      "provenance": []
    },
    "kernelspec": {
      "display_name": "Python 3",
      "name": "python3"
    },
    "language_info": {
      "codemirror_mode": {
        "name": "ipython",
        "version": 3
      },
      "file_extension": ".py",
      "mimetype": "text/x-python",
      "name": "python",
      "nbconvert_exporter": "python",
      "pygments_lexer": "ipython3",
      "version": "3.12.2"
    }
  },
  "nbformat": 4,
  "nbformat_minor": 0
}
